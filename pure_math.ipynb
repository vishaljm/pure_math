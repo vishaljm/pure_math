{
 "cells": [
  {
   "cell_type": "code",
   "execution_count": 2,
   "id": "f21ca90b",
   "metadata": {},
   "outputs": [],
   "source": [
    "import math"
   ]
  },
  {
   "cell_type": "code",
   "execution_count": 4,
   "id": "68a76db9",
   "metadata": {},
   "outputs": [
    {
     "data": {
      "text/plain": [
       "2"
      ]
     },
     "execution_count": 4,
     "metadata": {},
     "output_type": "execute_result"
    }
   ],
   "source": [
    "int(math.sqrt(4))"
   ]
  },
  {
   "cell_type": "code",
   "execution_count": 5,
   "id": "083059fa",
   "metadata": {},
   "outputs": [
    {
     "data": {
      "text/plain": [
       "True"
      ]
     },
     "execution_count": 5,
     "metadata": {},
     "output_type": "execute_result"
    }
   ],
   "source": [
    "def get_divisors(n):\n",
    "    return list(range(2, int(math.sqrt(n)) + 1))\n",
    "\n",
    "def is_prime(n):\n",
    "    if n <= 1:\n",
    "        return False\n",
    "    if n <=3:\n",
    "        return True\n",
    "    if n % 2 == 0 or n % 3 == 0:\n",
    "        return False\n",
    "    \n",
    "    for d in range(5, int(math.sqrt(n)) + 1, 6):\n",
    "        if n % d == 0 or n % (d + 2) == 0:\n",
    "            return False\n",
    "    \n",
    "    return True\n",
    "\n",
    "n = 19\n",
    "get_divisors(n)\n",
    "is_prime(n)"
   ]
  },
  {
   "cell_type": "code",
   "execution_count": 5,
   "id": "621fa02c",
   "metadata": {},
   "outputs": [
    {
     "name": "stdout",
     "output_type": "stream",
     "text": [
      "Element at index 0: 3\n",
      "Element at index 1: 7\n",
      "Element at index 2: 11\n",
      "Element at index 3: 5\n",
      "Element at index 4: 9\n"
     ]
    }
   ],
   "source": [
    "arr = [3, 7, 11, 5, 9]\n",
    "i = 0  # Initialize the index manually\n",
    "while i < len(arr):  # Keep looping while the index is within the bounds of the list\n",
    "    print(f\"Element at index {i}: {arr[i]}\")\n",
    "    i += 1  # Increment the index manually\n"
   ]
  },
  {
   "cell_type": "code",
   "execution_count": 42,
   "id": "a4323562",
   "metadata": {},
   "outputs": [
    {
     "name": "stdout",
     "output_type": "stream",
     "text": [
      "0\n",
      "1\n",
      "2\n"
     ]
    }
   ],
   "source": [
    "arr = ['cow', 'sheep', 'dog']\n",
    "x = len(arr)\n",
    "x\n",
    "y = range(len(arr))\n",
    "y\n",
    "for i in y:\n",
    "    print (i)\n",
    "\n"
   ]
  },
  {
   "cell_type": "code",
   "execution_count": 55,
   "id": "f0a4dfe6",
   "metadata": {},
   "outputs": [
    {
     "name": "stdout",
     "output_type": "stream",
     "text": [
      "6\n",
      "15\n",
      "24\n"
     ]
    }
   ],
   "source": [
    "matrix_a = [\n",
    "    [1,2,3],\n",
    "    [4,5,6],\n",
    "    [7,8,9]\n",
    "]\n",
    "\n",
    "matrix_b = [\n",
    "    [10,11,12],\n",
    "    [13,14,15],\n",
    "    [16,17,18]\n",
    "]\n",
    "\n",
    "for i, j in enumerate(matrix_a):\n",
    "    print(j[0] + j[1] + j[2])"
   ]
  }
 ],
 "metadata": {
  "kernelspec": {
   "display_name": "Python 3",
   "language": "python",
   "name": "python3"
  },
  "language_info": {
   "codemirror_mode": {
    "name": "ipython",
    "version": 3
   },
   "file_extension": ".py",
   "mimetype": "text/x-python",
   "name": "python",
   "nbconvert_exporter": "python",
   "pygments_lexer": "ipython3",
   "version": "3.11.3"
  }
 },
 "nbformat": 4,
 "nbformat_minor": 5
}
